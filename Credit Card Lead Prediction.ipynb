{
 "cells": [
  {
   "cell_type": "markdown",
   "metadata": {},
   "source": [
    "# Credit Card Lead Prediction "
   ]
  },
  {
   "cell_type": "markdown",
   "metadata": {},
   "source": [
    "# Problem Statement: Identify the customers that would show higher interest towards a recommended credit card"
   ]
  },
  {
   "cell_type": "code",
   "execution_count": 1,
   "metadata": {},
   "outputs": [],
   "source": [
    "# Ignoring Warnings\n",
    "import warnings\n",
    "warnings.filterwarnings('ignore')"
   ]
  },
  {
   "cell_type": "code",
   "execution_count": 17,
   "metadata": {},
   "outputs": [],
   "source": [
    "#Importing required libraries\n",
    "import numpy as np\n",
    "import pandas as pd\n",
    "import seaborn as sns\n",
    "import matplotlib.pyplot as plt\n",
    "%matplotlib inline"
   ]
  },
  {
   "cell_type": "code",
   "execution_count": 3,
   "metadata": {},
   "outputs": [],
   "source": [
    "#Importing credit card train and test dataset\n",
    "credit_card_train = pd.read_csv('C:\\\\Users\\\\LENEVO\\\\Downloads\\\\train_s3TEQDk.csv',sep=',',encoding='latin')\n",
    "credit_card_test = pd.read_csv('C:\\\\Users\\\\LENEVO\\\\Downloads\\\\test_mSzZ8RL.csv',sep=',',encoding='latin')"
   ]
  },
  {
   "cell_type": "code",
   "execution_count": 4,
   "metadata": {},
   "outputs": [
    {
     "name": "stdout",
     "output_type": "stream",
     "text": [
      "(245725, 11)\n",
      "(105312, 10)\n"
     ]
    }
   ],
   "source": [
    "#Checking the shape of the dataset\n",
    "print(credit_card_train.shape)\n",
    "print(credit_card_test.shape)"
   ]
  },
  {
   "cell_type": "code",
   "execution_count": 9,
   "metadata": {
    "scrolled": true
   },
   "outputs": [
    {
     "data": {
      "text/html": [
       "<div>\n",
       "<style scoped>\n",
       "    .dataframe tbody tr th:only-of-type {\n",
       "        vertical-align: middle;\n",
       "    }\n",
       "\n",
       "    .dataframe tbody tr th {\n",
       "        vertical-align: top;\n",
       "    }\n",
       "\n",
       "    .dataframe thead th {\n",
       "        text-align: right;\n",
       "    }\n",
       "</style>\n",
       "<table border=\"1\" class=\"dataframe\">\n",
       "  <thead>\n",
       "    <tr style=\"text-align: right;\">\n",
       "      <th></th>\n",
       "      <th>ID</th>\n",
       "      <th>Gender</th>\n",
       "      <th>Age</th>\n",
       "      <th>Region_Code</th>\n",
       "      <th>Occupation</th>\n",
       "      <th>Channel_Code</th>\n",
       "      <th>Vintage</th>\n",
       "      <th>Credit_Product</th>\n",
       "      <th>Avg_Account_Balance</th>\n",
       "      <th>Is_Active</th>\n",
       "      <th>Is_Lead</th>\n",
       "    </tr>\n",
       "  </thead>\n",
       "  <tbody>\n",
       "    <tr>\n",
       "      <th>0</th>\n",
       "      <td>NNVBBKZB</td>\n",
       "      <td>Female</td>\n",
       "      <td>73</td>\n",
       "      <td>RG268</td>\n",
       "      <td>Other</td>\n",
       "      <td>X3</td>\n",
       "      <td>43</td>\n",
       "      <td>No</td>\n",
       "      <td>1045696</td>\n",
       "      <td>No</td>\n",
       "      <td>0</td>\n",
       "    </tr>\n",
       "    <tr>\n",
       "      <th>1</th>\n",
       "      <td>IDD62UNG</td>\n",
       "      <td>Female</td>\n",
       "      <td>30</td>\n",
       "      <td>RG277</td>\n",
       "      <td>Salaried</td>\n",
       "      <td>X1</td>\n",
       "      <td>32</td>\n",
       "      <td>No</td>\n",
       "      <td>581988</td>\n",
       "      <td>No</td>\n",
       "      <td>0</td>\n",
       "    </tr>\n",
       "    <tr>\n",
       "      <th>2</th>\n",
       "      <td>HD3DSEMC</td>\n",
       "      <td>Female</td>\n",
       "      <td>56</td>\n",
       "      <td>RG268</td>\n",
       "      <td>Self_Employed</td>\n",
       "      <td>X3</td>\n",
       "      <td>26</td>\n",
       "      <td>No</td>\n",
       "      <td>1484315</td>\n",
       "      <td>Yes</td>\n",
       "      <td>0</td>\n",
       "    </tr>\n",
       "    <tr>\n",
       "      <th>3</th>\n",
       "      <td>BF3NC7KV</td>\n",
       "      <td>Male</td>\n",
       "      <td>34</td>\n",
       "      <td>RG270</td>\n",
       "      <td>Salaried</td>\n",
       "      <td>X1</td>\n",
       "      <td>19</td>\n",
       "      <td>No</td>\n",
       "      <td>470454</td>\n",
       "      <td>No</td>\n",
       "      <td>0</td>\n",
       "    </tr>\n",
       "    <tr>\n",
       "      <th>4</th>\n",
       "      <td>TEASRWXV</td>\n",
       "      <td>Female</td>\n",
       "      <td>30</td>\n",
       "      <td>RG282</td>\n",
       "      <td>Salaried</td>\n",
       "      <td>X1</td>\n",
       "      <td>33</td>\n",
       "      <td>No</td>\n",
       "      <td>886787</td>\n",
       "      <td>No</td>\n",
       "      <td>0</td>\n",
       "    </tr>\n",
       "  </tbody>\n",
       "</table>\n",
       "</div>"
      ],
      "text/plain": [
       "         ID  Gender  Age Region_Code     Occupation Channel_Code  Vintage  \\\n",
       "0  NNVBBKZB  Female   73       RG268          Other           X3       43   \n",
       "1  IDD62UNG  Female   30       RG277       Salaried           X1       32   \n",
       "2  HD3DSEMC  Female   56       RG268  Self_Employed           X3       26   \n",
       "3  BF3NC7KV    Male   34       RG270       Salaried           X1       19   \n",
       "4  TEASRWXV  Female   30       RG282       Salaried           X1       33   \n",
       "\n",
       "  Credit_Product  Avg_Account_Balance Is_Active  Is_Lead  \n",
       "0             No              1045696        No        0  \n",
       "1             No               581988        No        0  \n",
       "2             No              1484315       Yes        0  \n",
       "3             No               470454        No        0  \n",
       "4             No               886787        No        0  "
      ]
     },
     "execution_count": 9,
     "metadata": {},
     "output_type": "execute_result"
    }
   ],
   "source": [
    "#Checking the head of the train data\n",
    "credit_card_train.head()"
   ]
  },
  {
   "cell_type": "code",
   "execution_count": 11,
   "metadata": {},
   "outputs": [
    {
     "name": "stdout",
     "output_type": "stream",
     "text": [
      "<class 'pandas.core.frame.DataFrame'>\n",
      "RangeIndex: 245725 entries, 0 to 245724\n",
      "Data columns (total 11 columns):\n",
      " #   Column               Non-Null Count   Dtype \n",
      "---  ------               --------------   ----- \n",
      " 0   ID                   245725 non-null  object\n",
      " 1   Gender               245725 non-null  object\n",
      " 2   Age                  245725 non-null  int64 \n",
      " 3   Region_Code          245725 non-null  object\n",
      " 4   Occupation           245725 non-null  object\n",
      " 5   Channel_Code         245725 non-null  object\n",
      " 6   Vintage              245725 non-null  int64 \n",
      " 7   Credit_Product       216400 non-null  object\n",
      " 8   Avg_Account_Balance  245725 non-null  int64 \n",
      " 9   Is_Active            245725 non-null  object\n",
      " 10  Is_Lead              245725 non-null  int64 \n",
      "dtypes: int64(4), object(7)\n",
      "memory usage: 20.6+ MB\n"
     ]
    }
   ],
   "source": [
    "#Observing the summarized information of the data\n",
    "credit_card_train.info()"
   ]
  },
  {
   "cell_type": "code",
   "execution_count": 6,
   "metadata": {},
   "outputs": [
    {
     "data": {
      "text/html": [
       "<div>\n",
       "<style scoped>\n",
       "    .dataframe tbody tr th:only-of-type {\n",
       "        vertical-align: middle;\n",
       "    }\n",
       "\n",
       "    .dataframe tbody tr th {\n",
       "        vertical-align: top;\n",
       "    }\n",
       "\n",
       "    .dataframe thead th {\n",
       "        text-align: right;\n",
       "    }\n",
       "</style>\n",
       "<table border=\"1\" class=\"dataframe\">\n",
       "  <thead>\n",
       "    <tr style=\"text-align: right;\">\n",
       "      <th></th>\n",
       "      <th>ID</th>\n",
       "      <th>Gender</th>\n",
       "      <th>Age</th>\n",
       "      <th>Region_Code</th>\n",
       "      <th>Occupation</th>\n",
       "      <th>Channel_Code</th>\n",
       "      <th>Vintage</th>\n",
       "      <th>Credit_Product</th>\n",
       "      <th>Avg_Account_Balance</th>\n",
       "      <th>Is_Active</th>\n",
       "      <th>Is_Lead</th>\n",
       "    </tr>\n",
       "  </thead>\n",
       "  <tbody>\n",
       "    <tr>\n",
       "      <th>count</th>\n",
       "      <td>245725</td>\n",
       "      <td>245725</td>\n",
       "      <td>245725.000000</td>\n",
       "      <td>245725</td>\n",
       "      <td>245725</td>\n",
       "      <td>245725</td>\n",
       "      <td>245725.000000</td>\n",
       "      <td>216400</td>\n",
       "      <td>2.457250e+05</td>\n",
       "      <td>245725</td>\n",
       "      <td>245725.000000</td>\n",
       "    </tr>\n",
       "    <tr>\n",
       "      <th>unique</th>\n",
       "      <td>245725</td>\n",
       "      <td>2</td>\n",
       "      <td>NaN</td>\n",
       "      <td>35</td>\n",
       "      <td>4</td>\n",
       "      <td>4</td>\n",
       "      <td>NaN</td>\n",
       "      <td>2</td>\n",
       "      <td>NaN</td>\n",
       "      <td>2</td>\n",
       "      <td>NaN</td>\n",
       "    </tr>\n",
       "    <tr>\n",
       "      <th>top</th>\n",
       "      <td>AK8GKYRG</td>\n",
       "      <td>Male</td>\n",
       "      <td>NaN</td>\n",
       "      <td>RG268</td>\n",
       "      <td>Self_Employed</td>\n",
       "      <td>X1</td>\n",
       "      <td>NaN</td>\n",
       "      <td>No</td>\n",
       "      <td>NaN</td>\n",
       "      <td>No</td>\n",
       "      <td>NaN</td>\n",
       "    </tr>\n",
       "    <tr>\n",
       "      <th>freq</th>\n",
       "      <td>1</td>\n",
       "      <td>134197</td>\n",
       "      <td>NaN</td>\n",
       "      <td>35934</td>\n",
       "      <td>100886</td>\n",
       "      <td>103718</td>\n",
       "      <td>NaN</td>\n",
       "      <td>144357</td>\n",
       "      <td>NaN</td>\n",
       "      <td>150290</td>\n",
       "      <td>NaN</td>\n",
       "    </tr>\n",
       "    <tr>\n",
       "      <th>mean</th>\n",
       "      <td>NaN</td>\n",
       "      <td>NaN</td>\n",
       "      <td>43.856307</td>\n",
       "      <td>NaN</td>\n",
       "      <td>NaN</td>\n",
       "      <td>NaN</td>\n",
       "      <td>46.959141</td>\n",
       "      <td>NaN</td>\n",
       "      <td>1.128403e+06</td>\n",
       "      <td>NaN</td>\n",
       "      <td>0.237208</td>\n",
       "    </tr>\n",
       "    <tr>\n",
       "      <th>std</th>\n",
       "      <td>NaN</td>\n",
       "      <td>NaN</td>\n",
       "      <td>14.828672</td>\n",
       "      <td>NaN</td>\n",
       "      <td>NaN</td>\n",
       "      <td>NaN</td>\n",
       "      <td>32.353136</td>\n",
       "      <td>NaN</td>\n",
       "      <td>8.529364e+05</td>\n",
       "      <td>NaN</td>\n",
       "      <td>0.425372</td>\n",
       "    </tr>\n",
       "    <tr>\n",
       "      <th>min</th>\n",
       "      <td>NaN</td>\n",
       "      <td>NaN</td>\n",
       "      <td>23.000000</td>\n",
       "      <td>NaN</td>\n",
       "      <td>NaN</td>\n",
       "      <td>NaN</td>\n",
       "      <td>7.000000</td>\n",
       "      <td>NaN</td>\n",
       "      <td>2.079000e+04</td>\n",
       "      <td>NaN</td>\n",
       "      <td>0.000000</td>\n",
       "    </tr>\n",
       "    <tr>\n",
       "      <th>25%</th>\n",
       "      <td>NaN</td>\n",
       "      <td>NaN</td>\n",
       "      <td>30.000000</td>\n",
       "      <td>NaN</td>\n",
       "      <td>NaN</td>\n",
       "      <td>NaN</td>\n",
       "      <td>20.000000</td>\n",
       "      <td>NaN</td>\n",
       "      <td>6.043100e+05</td>\n",
       "      <td>NaN</td>\n",
       "      <td>0.000000</td>\n",
       "    </tr>\n",
       "    <tr>\n",
       "      <th>50%</th>\n",
       "      <td>NaN</td>\n",
       "      <td>NaN</td>\n",
       "      <td>43.000000</td>\n",
       "      <td>NaN</td>\n",
       "      <td>NaN</td>\n",
       "      <td>NaN</td>\n",
       "      <td>32.000000</td>\n",
       "      <td>NaN</td>\n",
       "      <td>8.946010e+05</td>\n",
       "      <td>NaN</td>\n",
       "      <td>0.000000</td>\n",
       "    </tr>\n",
       "    <tr>\n",
       "      <th>75%</th>\n",
       "      <td>NaN</td>\n",
       "      <td>NaN</td>\n",
       "      <td>54.000000</td>\n",
       "      <td>NaN</td>\n",
       "      <td>NaN</td>\n",
       "      <td>NaN</td>\n",
       "      <td>73.000000</td>\n",
       "      <td>NaN</td>\n",
       "      <td>1.366666e+06</td>\n",
       "      <td>NaN</td>\n",
       "      <td>0.000000</td>\n",
       "    </tr>\n",
       "    <tr>\n",
       "      <th>max</th>\n",
       "      <td>NaN</td>\n",
       "      <td>NaN</td>\n",
       "      <td>85.000000</td>\n",
       "      <td>NaN</td>\n",
       "      <td>NaN</td>\n",
       "      <td>NaN</td>\n",
       "      <td>135.000000</td>\n",
       "      <td>NaN</td>\n",
       "      <td>1.035201e+07</td>\n",
       "      <td>NaN</td>\n",
       "      <td>1.000000</td>\n",
       "    </tr>\n",
       "  </tbody>\n",
       "</table>\n",
       "</div>"
      ],
      "text/plain": [
       "              ID  Gender            Age Region_Code     Occupation  \\\n",
       "count     245725  245725  245725.000000      245725         245725   \n",
       "unique    245725       2            NaN          35              4   \n",
       "top     AK8GKYRG    Male            NaN       RG268  Self_Employed   \n",
       "freq           1  134197            NaN       35934         100886   \n",
       "mean         NaN     NaN      43.856307         NaN            NaN   \n",
       "std          NaN     NaN      14.828672         NaN            NaN   \n",
       "min          NaN     NaN      23.000000         NaN            NaN   \n",
       "25%          NaN     NaN      30.000000         NaN            NaN   \n",
       "50%          NaN     NaN      43.000000         NaN            NaN   \n",
       "75%          NaN     NaN      54.000000         NaN            NaN   \n",
       "max          NaN     NaN      85.000000         NaN            NaN   \n",
       "\n",
       "       Channel_Code        Vintage Credit_Product  Avg_Account_Balance  \\\n",
       "count        245725  245725.000000         216400         2.457250e+05   \n",
       "unique            4            NaN              2                  NaN   \n",
       "top              X1            NaN             No                  NaN   \n",
       "freq         103718            NaN         144357                  NaN   \n",
       "mean            NaN      46.959141            NaN         1.128403e+06   \n",
       "std             NaN      32.353136            NaN         8.529364e+05   \n",
       "min             NaN       7.000000            NaN         2.079000e+04   \n",
       "25%             NaN      20.000000            NaN         6.043100e+05   \n",
       "50%             NaN      32.000000            NaN         8.946010e+05   \n",
       "75%             NaN      73.000000            NaN         1.366666e+06   \n",
       "max             NaN     135.000000            NaN         1.035201e+07   \n",
       "\n",
       "       Is_Active        Is_Lead  \n",
       "count     245725  245725.000000  \n",
       "unique         2            NaN  \n",
       "top           No            NaN  \n",
       "freq      150290            NaN  \n",
       "mean         NaN       0.237208  \n",
       "std          NaN       0.425372  \n",
       "min          NaN       0.000000  \n",
       "25%          NaN       0.000000  \n",
       "50%          NaN       0.000000  \n",
       "75%          NaN       0.000000  \n",
       "max          NaN       1.000000  "
      ]
     },
     "execution_count": 6,
     "metadata": {},
     "output_type": "execute_result"
    }
   ],
   "source": [
    "#Checking statistical description of the data\n",
    "credit_card_train.describe(include='all')"
   ]
  },
  {
   "cell_type": "code",
   "execution_count": 7,
   "metadata": {},
   "outputs": [
    {
     "data": {
      "text/plain": [
       "ID                     245725\n",
       "Gender                      2\n",
       "Age                        63\n",
       "Region_Code                35\n",
       "Occupation                  4\n",
       "Channel_Code                4\n",
       "Vintage                    66\n",
       "Credit_Product              2\n",
       "Avg_Account_Balance    135292\n",
       "Is_Active                   2\n",
       "Is_Lead                     2\n",
       "dtype: int64"
      ]
     },
     "execution_count": 7,
     "metadata": {},
     "output_type": "execute_result"
    }
   ],
   "source": [
    "#Checking unique values of each column\n",
    "credit_card_train.nunique()"
   ]
  },
  {
   "cell_type": "markdown",
   "metadata": {},
   "source": [
    "# Anatomy of the columns\n",
    "1. ID: Qulitative(Rejected)\n",
    "2. Gender : Categorical\n",
    "3. Age: Quantitative\n",
    "4. Region_Code : Qualitative(Rejected)\n",
    "5. Occupation: Categorical\n",
    "6. Channel_Code: Categorical\n",
    "7. Vintage : Quantitaive\n",
    "8. Credit_Product: Categorical\n",
    "9. Avg_Account_Balance: Quantitaive\n",
    "10. Is_Active: Categorical\n",
    "11. Is_Lead: Categorical(Target Variable)"
   ]
  },
  {
   "cell_type": "markdown",
   "metadata": {},
   "source": [
    "# Is_Lead is the Target Variable that will help us to determine the customers who would accept the recommended credit card "
   ]
  },
  {
   "cell_type": "markdown",
   "metadata": {},
   "source": [
    "# Determining the Machine Learning Model\n",
    "Based on the above data description, it is clear that Supervised Machine Learning(Logistic Regression) would be used to find the solution as the target variable is categorical"
   ]
  },
  {
   "cell_type": "markdown",
   "metadata": {},
   "source": [
    "# Looking at the distribution of the target variable"
   ]
  },
  {
   "cell_type": "code",
   "execution_count": 8,
   "metadata": {
    "scrolled": false
   },
   "outputs": [
    {
     "data": {
      "text/plain": [
       "<AxesSubplot:xlabel='Is_Lead'>"
      ]
     },
     "execution_count": 8,
     "metadata": {},
     "output_type": "execute_result"
    },
    {
     "data": {
      "image/png": "[encoded data removed]",
      "text/plain": [
       "<Figure size 432x288 with 1 Axes>"
      ]
     },
     "metadata": {
      "needs_background": "light"
     },
     "output_type": "display_data"
    }
   ],
   "source": [
    "credit_card_train.groupby('Is_Lead').size().plot(kind='bar')"
   ]
  },
  {
   "cell_type": "markdown",
   "metadata": {},
   "source": [
    "The values in the Target Variable are distributed significantly to proceed further."
   ]
  },
  {
   "cell_type": "markdown",
   "metadata": {},
   "source": [
    "# Dropping the useless columns from the dataset"
   ]
  },
  {
   "cell_type": "code",
   "execution_count": 12,
   "metadata": {},
   "outputs": [],
   "source": [
    "#Assigning qualitative variables to a list variable\n",
    "uselessColumns = ['ID','Region_Code']\n",
    "credit_card_train.drop(uselessColumns,axis=1,inplace=True)"
   ]
  },
  {
   "cell_type": "markdown",
   "metadata": {},
   "source": [
    "# Visual Exploratory Data Analysis\n",
    " * Categorical Variables: Bar Graph\n",
    " * Continous/Quantitaive Variables: Histogram"
   ]
  },
  {
   "cell_type": "code",
   "execution_count": 14,
   "metadata": {},
   "outputs": [
    {
     "data": {
      "text/plain": [
       "Index(['Gender', 'Age', 'Occupation', 'Channel_Code', 'Vintage',\n",
       "       'Credit_Product', 'Avg_Account_Balance', 'Is_Active', 'Is_Lead'],\n",
       "      dtype='object')"
      ]
     },
     "execution_count": 14,
     "metadata": {},
     "output_type": "execute_result"
    }
   ],
   "source": [
    "#Extracting all the columns from the dataset\n",
    "credit_card_train.columns"
   ]
  },
  {
   "cell_type": "code",
   "execution_count": 15,
   "metadata": {},
   "outputs": [],
   "source": [
    "#Making List of Categorical and Quantitaive Variables\n",
    "categoricalVariables = ['Gender','Occupation','Channel_Code','Credit_Product','Is_Active']\n",
    "continuousVariables = ['Age','Vintage','Avg_Account_Balance']"
   ]
  },
  {
   "cell_type": "code",
   "execution_count": 89,
   "metadata": {
    "scrolled": false
   },
   "outputs": [
    {
     "data": {
      "image/png": "[encoded data removed]",
      "text/plain": [
       "<Figure size 2160x1440 with 5 Axes>"
      ]
     },
     "metadata": {
      "needs_background": "light"
     },
     "output_type": "display_data"
    }
   ],
   "source": [
    "#Visualizing the distribution of categorical variables through Bar Grapgh\n",
    "plt.figure(figsize=(30,20))\n",
    "for i,feature in enumerate(categoricalVariables):\n",
    "    plt.subplot(3,2,i+1)\n",
    "    sns.countplot(credit_card_train[feature])"
   ]
  },
  {
   "cell_type": "markdown",
   "metadata": {},
   "source": [
    "The value of Entrepreneur in Occupation column and X4 in Channel Code are very less as compared to the other values,\n",
    "thus they would be considered as outliers and would be replaced by the other significant value"
   ]
  },
  {
   "cell_type": "code",
   "execution_count": 86,
   "metadata": {},
   "outputs": [
    {
     "data": {
      "text/plain": [
       "array(['Other', 'Salaried', 'Self_Employed', 'Entrepreneur'], dtype=object)"
      ]
     },
     "execution_count": 86,
     "metadata": {},
     "output_type": "execute_result"
    }
   ],
   "source": [
    "credit_card_train['Occupation'].unique()"
   ]
  },
  {
   "cell_type": "code",
   "execution_count": 88,
   "metadata": {},
   "outputs": [],
   "source": [
    "credit_card_train['Occupation'].replace({'Entrepreneur':'Self_Employed'},inplace=True)\n",
    "credit_card_train['Channel_Code'].replace({'X4':'X3'},inplace=True)"
   ]
  },
  {
   "cell_type": "code",
   "execution_count": 22,
   "metadata": {
    "scrolled": true
   },
   "outputs": [
    {
     "data": {
      "image/png": "[encoded data removed]",
      "text/plain": [
       "<Figure size 720x576 with 1 Axes>"
      ]
     },
     "metadata": {
      "needs_background": "light"
     },
     "output_type": "display_data"
    },
    {
     "data": {
      "image/png": "[encoded data removed]",
      "text/plain": [
       "<Figure size 720x576 with 1 Axes>"
      ]
     },
     "metadata": {
      "needs_background": "light"
     },
     "output_type": "display_data"
    },
    {
     "data": {
      "image/png": "[encoded data removed]",
      "text/plain": [
       "<Figure size 720x576 with 1 Axes>"
      ]
     },
     "metadata": {
      "needs_background": "light"
     },
     "output_type": "display_data"
    }
   ],
   "source": [
    "#Visualizing distribution of Quantitaive variables through histogram\n",
    "for i in continuousVariables:\n",
    "    credit_card_train.hist([i],figsize=(10,8))"
   ]
  },
  {
   "cell_type": "markdown",
   "metadata": {},
   "source": [
    "There values of the quantitaive variables are significantly ditsributed for the analysis and there are no outliers present in the variables"
   ]
  },
  {
   "cell_type": "markdown",
   "metadata": {},
   "source": [
    "# Missing Value Treatment"
   ]
  },
  {
   "cell_type": "code",
   "execution_count": 29,
   "metadata": {},
   "outputs": [
    {
     "data": {
      "text/plain": [
       "Gender                 0\n",
       "Age                    0\n",
       "Occupation             0\n",
       "Channel_Code           0\n",
       "Vintage                0\n",
       "Credit_Product         0\n",
       "Avg_Account_Balance    0\n",
       "Is_Active              0\n",
       "Is_Lead                0\n",
       "dtype: int64"
      ]
     },
     "execution_count": 29,
     "metadata": {},
     "output_type": "execute_result"
    }
   ],
   "source": [
    "#EXtractiong missing/null values present in the dataset\n",
    "credit_card_train.isna().sum()"
   ]
  },
  {
   "cell_type": "code",
   "execution_count": 28,
   "metadata": {},
   "outputs": [],
   "source": [
    "#Replacing missing/null values of credit product column with the mode value because it is a categorical variable\n",
    "credit_card_train['Credit_Product'].fillna(credit_card_train['Credit_Product'].mode()[0],inplace=True)"
   ]
  },
  {
   "cell_type": "markdown",
   "metadata": {},
   "source": [
    "# Exploratory Analysis of the test data\n",
    "Same steps would be followed as done for train dataset."
   ]
  },
  {
   "cell_type": "code",
   "execution_count": 164,
   "metadata": {},
   "outputs": [
    {
     "data": {
      "text/html": [
       "<div>\n",
       "<style scoped>\n",
       "    .dataframe tbody tr th:only-of-type {\n",
       "        vertical-align: middle;\n",
       "    }\n",
       "\n",
       "    .dataframe tbody tr th {\n",
       "        vertical-align: top;\n",
       "    }\n",
       "\n",
       "    .dataframe thead th {\n",
       "        text-align: right;\n",
       "    }\n",
       "</style>\n",
       "<table border=\"1\" class=\"dataframe\">\n",
       "  <thead>\n",
       "    <tr style=\"text-align: right;\">\n",
       "      <th></th>\n",
       "      <th>Gender</th>\n",
       "      <th>Age</th>\n",
       "      <th>Occupation</th>\n",
       "      <th>Channel_Code</th>\n",
       "      <th>Vintage</th>\n",
       "      <th>Credit_Product</th>\n",
       "      <th>Avg_Account_Balance</th>\n",
       "      <th>Is_Active</th>\n",
       "    </tr>\n",
       "  </thead>\n",
       "  <tbody>\n",
       "    <tr>\n",
       "      <th>0</th>\n",
       "      <td>Male</td>\n",
       "      <td>29</td>\n",
       "      <td>Other</td>\n",
       "      <td>X1</td>\n",
       "      <td>25</td>\n",
       "      <td>Yes</td>\n",
       "      <td>742366</td>\n",
       "      <td>No</td>\n",
       "    </tr>\n",
       "    <tr>\n",
       "      <th>1</th>\n",
       "      <td>Male</td>\n",
       "      <td>43</td>\n",
       "      <td>Other</td>\n",
       "      <td>X2</td>\n",
       "      <td>49</td>\n",
       "      <td>NaN</td>\n",
       "      <td>925537</td>\n",
       "      <td>No</td>\n",
       "    </tr>\n",
       "    <tr>\n",
       "      <th>2</th>\n",
       "      <td>Male</td>\n",
       "      <td>31</td>\n",
       "      <td>Salaried</td>\n",
       "      <td>X1</td>\n",
       "      <td>14</td>\n",
       "      <td>No</td>\n",
       "      <td>215949</td>\n",
       "      <td>No</td>\n",
       "    </tr>\n",
       "    <tr>\n",
       "      <th>3</th>\n",
       "      <td>Male</td>\n",
       "      <td>29</td>\n",
       "      <td>Other</td>\n",
       "      <td>X1</td>\n",
       "      <td>33</td>\n",
       "      <td>No</td>\n",
       "      <td>868070</td>\n",
       "      <td>No</td>\n",
       "    </tr>\n",
       "    <tr>\n",
       "      <th>4</th>\n",
       "      <td>Female</td>\n",
       "      <td>29</td>\n",
       "      <td>Other</td>\n",
       "      <td>X1</td>\n",
       "      <td>19</td>\n",
       "      <td>No</td>\n",
       "      <td>657087</td>\n",
       "      <td>No</td>\n",
       "    </tr>\n",
       "  </tbody>\n",
       "</table>\n",
       "</div>"
      ],
      "text/plain": [
       "   Gender  Age Occupation Channel_Code  Vintage Credit_Product  \\\n",
       "0    Male   29      Other           X1       25            Yes   \n",
       "1    Male   43      Other           X2       49            NaN   \n",
       "2    Male   31   Salaried           X1       14             No   \n",
       "3    Male   29      Other           X1       33             No   \n",
       "4  Female   29      Other           X1       19             No   \n",
       "\n",
       "   Avg_Account_Balance Is_Active  \n",
       "0               742366        No  \n",
       "1               925537        No  \n",
       "2               215949        No  \n",
       "3               868070        No  \n",
       "4               657087        No  "
      ]
     },
     "execution_count": 164,
     "metadata": {},
     "output_type": "execute_result"
    }
   ],
   "source": [
    "test_data = credit_card_test.copy()\n",
    "\n",
    "uselessColumns = ['ID','Region_Code']\n",
    "#Dropping of the useless columns from the test data\n",
    "test_data.drop(uselessColumns,axis=1,inplace=True)\n",
    "test_data.head()"
   ]
  },
  {
   "cell_type": "markdown",
   "metadata": {},
   "source": [
    "# Univariate Exploratory Analysis of the test data"
   ]
  },
  {
   "cell_type": "code",
   "execution_count": 165,
   "metadata": {
    "scrolled": true
   },
   "outputs": [
    {
     "data": {
      "image/png": "[encoded data removed]",
      "text/plain": [
       "<Figure size 2160x1440 with 5 Axes>"
      ]
     },
     "metadata": {
      "needs_background": "light"
     },
     "output_type": "display_data"
    }
   ],
   "source": [
    "#Visualizing the distribution of categorical variables through Bar Grapgh\n",
    "plt.figure(figsize=(30,20))\n",
    "for i,feature in enumerate(categoricalVariables):\n",
    "    plt.subplot(3,2,i+1)\n",
    "    sns.countplot(test_data[feature])"
   ]
  },
  {
   "cell_type": "code",
   "execution_count": 166,
   "metadata": {},
   "outputs": [],
   "source": [
    "#Removing outliers values of occupation and credit_product columns\n",
    "test_data['Occupation'].replace({'Entrepreneur':'Self_Employed'},inplace=True)\n",
    "test_data['Channel_Code'].replace({'X4':'X3'},inplace=True)"
   ]
  },
  {
   "cell_type": "code",
   "execution_count": 152,
   "metadata": {},
   "outputs": [
    {
     "data": {
      "image/png": "[encoded data removed]",
      "text/plain": [
       "<Figure size 720x576 with 1 Axes>"
      ]
     },
     "metadata": {
      "needs_background": "light"
     },
     "output_type": "display_data"
    },
    {
     "data": {
      "image/png": "[encoded data removed]",
      "text/plain": [
       "<Figure size 720x576 with 1 Axes>"
      ]
     },
     "metadata": {
      "needs_background": "light"
     },
     "output_type": "display_data"
    },
    {
     "data": {
      "image/png": "[encoded data removed]",
      "text/plain": [
       "<Figure size 720x576 with 1 Axes>"
      ]
     },
     "metadata": {
      "needs_background": "light"
     },
     "output_type": "display_data"
    }
   ],
   "source": [
    "#Visualizing distribution of Quantitaive variables through histogram\n",
    "for i in continuousVariables:\n",
    "    test_data.hist([i],figsize=(10,8))"
   ]
  },
  {
   "cell_type": "code",
   "execution_count": 167,
   "metadata": {
    "scrolled": true
   },
   "outputs": [
    {
     "data": {
      "text/plain": [
       "Gender                     0\n",
       "Age                        0\n",
       "Occupation                 0\n",
       "Channel_Code               0\n",
       "Vintage                    0\n",
       "Credit_Product         12522\n",
       "Avg_Account_Balance        0\n",
       "Is_Active                  0\n",
       "dtype: int64"
      ]
     },
     "execution_count": 167,
     "metadata": {},
     "output_type": "execute_result"
    }
   ],
   "source": [
    "#Observing Missing values in the test data\n",
    "test_data.isna().sum()"
   ]
  },
  {
   "cell_type": "code",
   "execution_count": 168,
   "metadata": {},
   "outputs": [],
   "source": [
    "#Missing values are less than 30% of the data, so values would be treated\n",
    "#Treatment of missing values of credit_product column\n",
    "test_data['Credit_Product'].fillna(test_data['Credit_Product'].mode()[0],inplace=True)"
   ]
  },
  {
   "cell_type": "code",
   "execution_count": 169,
   "metadata": {},
   "outputs": [
    {
     "data": {
      "text/html": [
       "<div>\n",
       "<style scoped>\n",
       "    .dataframe tbody tr th:only-of-type {\n",
       "        vertical-align: middle;\n",
       "    }\n",
       "\n",
       "    .dataframe tbody tr th {\n",
       "        vertical-align: top;\n",
       "    }\n",
       "\n",
       "    .dataframe thead th {\n",
       "        text-align: right;\n",
       "    }\n",
       "</style>\n",
       "<table border=\"1\" class=\"dataframe\">\n",
       "  <thead>\n",
       "    <tr style=\"text-align: right;\">\n",
       "      <th></th>\n",
       "      <th>Gender</th>\n",
       "      <th>Age</th>\n",
       "      <th>Occupation</th>\n",
       "      <th>Channel_Code</th>\n",
       "      <th>Vintage</th>\n",
       "      <th>Credit_Product</th>\n",
       "      <th>Avg_Account_Balance</th>\n",
       "      <th>Is_Active</th>\n",
       "    </tr>\n",
       "  </thead>\n",
       "  <tbody>\n",
       "    <tr>\n",
       "      <th>0</th>\n",
       "      <td>0</td>\n",
       "      <td>29</td>\n",
       "      <td>Other</td>\n",
       "      <td>X1</td>\n",
       "      <td>25</td>\n",
       "      <td>1</td>\n",
       "      <td>742366</td>\n",
       "      <td>0</td>\n",
       "    </tr>\n",
       "    <tr>\n",
       "      <th>1</th>\n",
       "      <td>0</td>\n",
       "      <td>43</td>\n",
       "      <td>Other</td>\n",
       "      <td>X2</td>\n",
       "      <td>49</td>\n",
       "      <td>0</td>\n",
       "      <td>925537</td>\n",
       "      <td>0</td>\n",
       "    </tr>\n",
       "    <tr>\n",
       "      <th>2</th>\n",
       "      <td>0</td>\n",
       "      <td>31</td>\n",
       "      <td>Salaried</td>\n",
       "      <td>X1</td>\n",
       "      <td>14</td>\n",
       "      <td>0</td>\n",
       "      <td>215949</td>\n",
       "      <td>0</td>\n",
       "    </tr>\n",
       "    <tr>\n",
       "      <th>3</th>\n",
       "      <td>0</td>\n",
       "      <td>29</td>\n",
       "      <td>Other</td>\n",
       "      <td>X1</td>\n",
       "      <td>33</td>\n",
       "      <td>0</td>\n",
       "      <td>868070</td>\n",
       "      <td>0</td>\n",
       "    </tr>\n",
       "    <tr>\n",
       "      <th>4</th>\n",
       "      <td>1</td>\n",
       "      <td>29</td>\n",
       "      <td>Other</td>\n",
       "      <td>X1</td>\n",
       "      <td>19</td>\n",
       "      <td>0</td>\n",
       "      <td>657087</td>\n",
       "      <td>0</td>\n",
       "    </tr>\n",
       "  </tbody>\n",
       "</table>\n",
       "</div>"
      ],
      "text/plain": [
       "   Gender  Age Occupation Channel_Code  Vintage  Credit_Product  \\\n",
       "0       0   29      Other           X1       25               1   \n",
       "1       0   43      Other           X2       49               0   \n",
       "2       0   31   Salaried           X1       14               0   \n",
       "3       0   29      Other           X1       33               0   \n",
       "4       1   29      Other           X1       19               0   \n",
       "\n",
       "   Avg_Account_Balance  Is_Active  \n",
       "0               742366          0  \n",
       "1               925537          0  \n",
       "2               215949          0  \n",
       "3               868070          0  \n",
       "4               657087          0  "
      ]
     },
     "execution_count": 169,
     "metadata": {},
     "output_type": "execute_result"
    }
   ],
   "source": [
    "#Converting Gender into 1/0 mapping\n",
    "test_data['Gender'].replace({'Male':0,'Female':1},inplace=True)\n",
    "\n",
    "#Converting Credit_Product into 1/0 mapping\n",
    "test_data['Credit_Product'].replace({'Yes':1,'No':0},inplace=True)\n",
    "\n",
    "#Converting Is_Active into 1/0 mapping\n",
    "test_data['Is_Active'].replace({'Yes':1,'No':0},inplace=True)\n",
    "\n",
    "\n",
    "test_data.head()\n"
   ]
  },
  {
   "cell_type": "code",
   "execution_count": 173,
   "metadata": {},
   "outputs": [
    {
     "data": {
      "text/html": [
       "<div>\n",
       "<style scoped>\n",
       "    .dataframe tbody tr th:only-of-type {\n",
       "        vertical-align: middle;\n",
       "    }\n",
       "\n",
       "    .dataframe tbody tr th {\n",
       "        vertical-align: top;\n",
       "    }\n",
       "\n",
       "    .dataframe thead th {\n",
       "        text-align: right;\n",
       "    }\n",
       "</style>\n",
       "<table border=\"1\" class=\"dataframe\">\n",
       "  <thead>\n",
       "    <tr style=\"text-align: right;\">\n",
       "      <th></th>\n",
       "      <th>Gender</th>\n",
       "      <th>Age</th>\n",
       "      <th>Vintage</th>\n",
       "      <th>Credit_Product</th>\n",
       "      <th>Avg_Account_Balance</th>\n",
       "      <th>Is_Active</th>\n",
       "      <th>Occupation_Other</th>\n",
       "      <th>Occupation_Salaried</th>\n",
       "      <th>Occupation_Self_Employed</th>\n",
       "      <th>Channel_Code_X1</th>\n",
       "      <th>Channel_Code_X2</th>\n",
       "      <th>Channel_Code_X3</th>\n",
       "    </tr>\n",
       "  </thead>\n",
       "  <tbody>\n",
       "    <tr>\n",
       "      <th>0</th>\n",
       "      <td>0</td>\n",
       "      <td>29</td>\n",
       "      <td>25</td>\n",
       "      <td>1</td>\n",
       "      <td>742366</td>\n",
       "      <td>0</td>\n",
       "      <td>1</td>\n",
       "      <td>0</td>\n",
       "      <td>0</td>\n",
       "      <td>1</td>\n",
       "      <td>0</td>\n",
       "      <td>0</td>\n",
       "    </tr>\n",
       "    <tr>\n",
       "      <th>1</th>\n",
       "      <td>0</td>\n",
       "      <td>43</td>\n",
       "      <td>49</td>\n",
       "      <td>0</td>\n",
       "      <td>925537</td>\n",
       "      <td>0</td>\n",
       "      <td>1</td>\n",
       "      <td>0</td>\n",
       "      <td>0</td>\n",
       "      <td>0</td>\n",
       "      <td>1</td>\n",
       "      <td>0</td>\n",
       "    </tr>\n",
       "    <tr>\n",
       "      <th>2</th>\n",
       "      <td>0</td>\n",
       "      <td>31</td>\n",
       "      <td>14</td>\n",
       "      <td>0</td>\n",
       "      <td>215949</td>\n",
       "      <td>0</td>\n",
       "      <td>0</td>\n",
       "      <td>1</td>\n",
       "      <td>0</td>\n",
       "      <td>1</td>\n",
       "      <td>0</td>\n",
       "      <td>0</td>\n",
       "    </tr>\n",
       "    <tr>\n",
       "      <th>3</th>\n",
       "      <td>0</td>\n",
       "      <td>29</td>\n",
       "      <td>33</td>\n",
       "      <td>0</td>\n",
       "      <td>868070</td>\n",
       "      <td>0</td>\n",
       "      <td>1</td>\n",
       "      <td>0</td>\n",
       "      <td>0</td>\n",
       "      <td>1</td>\n",
       "      <td>0</td>\n",
       "      <td>0</td>\n",
       "    </tr>\n",
       "    <tr>\n",
       "      <th>4</th>\n",
       "      <td>1</td>\n",
       "      <td>29</td>\n",
       "      <td>19</td>\n",
       "      <td>0</td>\n",
       "      <td>657087</td>\n",
       "      <td>0</td>\n",
       "      <td>1</td>\n",
       "      <td>0</td>\n",
       "      <td>0</td>\n",
       "      <td>1</td>\n",
       "      <td>0</td>\n",
       "      <td>0</td>\n",
       "    </tr>\n",
       "  </tbody>\n",
       "</table>\n",
       "</div>"
      ],
      "text/plain": [
       "   Gender  Age  Vintage  Credit_Product  Avg_Account_Balance  Is_Active  \\\n",
       "0       0   29       25               1               742366          0   \n",
       "1       0   43       49               0               925537          0   \n",
       "2       0   31       14               0               215949          0   \n",
       "3       0   29       33               0               868070          0   \n",
       "4       1   29       19               0               657087          0   \n",
       "\n",
       "   Occupation_Other  Occupation_Salaried  Occupation_Self_Employed  \\\n",
       "0                 1                    0                         0   \n",
       "1                 1                    0                         0   \n",
       "2                 0                    1                         0   \n",
       "3                 1                    0                         0   \n",
       "4                 1                    0                         0   \n",
       "\n",
       "   Channel_Code_X1  Channel_Code_X2  Channel_Code_X3  \n",
       "0                1                0                0  \n",
       "1                0                1                0  \n",
       "2                1                0                0  \n",
       "3                1                0                0  \n",
       "4                1                0                0  "
      ]
     },
     "execution_count": 173,
     "metadata": {},
     "output_type": "execute_result"
    }
   ],
   "source": [
    "#Generating dummy values of the multiclass categorical columns in test dataset\n",
    "test_data=pd.get_dummies(test_data)\n",
    "test_data.head()"
   ]
  },
  {
   "cell_type": "markdown",
   "metadata": {},
   "source": [
    "# Statistical Analysis of the Train Dataset"
   ]
  },
  {
   "cell_type": "markdown",
   "metadata": {},
   "source": [
    " # Feature Selection\n",
    "Now its time to finally choose the best columns(Features) which are correlated to the Target variable.\n",
    "This can be done directly by measuring the correlation values or ANOVA/Chi-Square tests. However, it is always helpful to visualize the relation between the Target variable and each of the predictors to get a better sense of data.\n"
   ]
  },
  {
   "cell_type": "markdown",
   "metadata": {},
   "source": [
    "## Visual exploration of relationship between variables\n",
    "* Continuous Vs Continuous ---- Scatter Plot\n",
    "* Categorical Vs Continuous---- Box Plot\n",
    "* Categorical Vs Categorical---- Grouped Bar Plots\n",
    "\n",
    "## Statistical measurement of relationship strength between variables\n",
    "* Continuous Vs Continuous ---- Correlation matrix\n",
    "* Categorical Vs Continuous---- ANOVA test\n",
    "* Categorical Vs Categorical--- Chi-Square test"
   ]
  },
  {
   "cell_type": "markdown",
   "metadata": {},
   "source": [
    "In this case study the Target variable is categorical, hence below two scenarios will be present\n",
    "* Categorical Target Variable Vs Continuous Predictor\n",
    "* Categorical Target Variable Vs Categorical Predictor"
   ]
  },
  {
   "cell_type": "markdown",
   "metadata": {},
   "source": [
    "# Relationship Exploration : Categorical VS Continuous --> Box Plot"
   ]
  },
  {
   "cell_type": "code",
   "execution_count": 35,
   "metadata": {
    "scrolled": true
   },
   "outputs": [
    {
     "data": {
      "image/png": "[encoded data removed]",
      "text/plain": [
       "<Figure size 2160x2160 with 3 Axes>"
      ]
     },
     "metadata": {
      "needs_background": "light"
     },
     "output_type": "display_data"
    }
   ],
   "source": [
    "#Visualizing the relationship bwtween the categorical vs continuous predictors through box plot\n",
    "plt.figure(figsize=(30,30))\n",
    "for i,feature in enumerate(continuousVariables):\n",
    "    plt.subplot(3,1,i+1)\n",
    "    sns.boxplot(x='Is_Lead',y=feature,data=credit_card_train)"
   ]
  },
  {
   "cell_type": "markdown",
   "metadata": {},
   "source": [
    "# Box-Plots interpretation\n",
    "\n",
    "These plots gives an idea about the data distribution of continuous predictor in the Y-axis for each of the category in the X-Axis.\n",
    "\n",
    "If the distribution looks similar for each category(Boxes are in the same line), that means the the continuous variable has NO effect on the target variable. Hence, the variables are not correlated to each other.\n",
    "\n",
    "Through the above box plots it is clear that the Age,Vintage,Avg_Account_Balance are corelated with the target variable,\n",
    "rest we will confirm from the ANOVA test below"
   ]
  },
  {
   "cell_type": "markdown",
   "metadata": {},
   "source": [
    "# Statistical Feature Selection (Categorical Vs Continuous) using ANOVA test\n",
    "Analysis of variance(ANOVA) is performed to check if there is any relationship between the given continuous and categorical variable\n",
    "* Assumption(H0): There is NO relation between the given variables (i.e. The average(mean) values of the numeric Predictor variable is same for all the groups in the categorical Target variable)\n",
    "* ANOVA Test result: Probability of H0 being true"
   ]
  },
  {
   "cell_type": "code",
   "execution_count": 40,
   "metadata": {},
   "outputs": [],
   "source": [
    "def Anova_test(targetVariable,PredictorVariable,inpData):\n",
    "    from scipy.stats import f_oneway\n",
    "    \n",
    "    #Creating an empty list \n",
    "    selectedVariables =[]\n",
    "    \n",
    "    print('## ANOVA RESULT ##')\n",
    "    for predictors in continuousVariables:\n",
    "        GroupedList = inpData.groupby(targetVariable)[predictors].apply(list)\n",
    "        Anova_Result = f_oneway(*GroupedList)\n",
    "        \n",
    "        #If p-Value is less than 0.05, we will reject the H0\n",
    "        if(Anova_Result[1]<0.05):\n",
    "            print(predictors,'is corelated with the',targetVariable,'| P-Value:',Anova_Result[1])\n",
    "            selectedVariables.append(predictors)\n",
    "        else:\n",
    "            print(predictors,'is not corelated with the',targetVariable,'| P-Value:',Anova_Result[1])\n",
    "    return(selectedVariables)  "
   ]
  },
  {
   "cell_type": "code",
   "execution_count": 41,
   "metadata": {},
   "outputs": [
    {
     "name": "stdout",
     "output_type": "stream",
     "text": [
      "## ANOVA RESULT ##\n",
      "Age is corelated with the Is_Lead | P-Value: 0.0\n",
      "Vintage is corelated with the Is_Lead | P-Value: 0.0\n",
      "Avg_Account_Balance is corelated with the Is_Lead | P-Value: 1.8899852442341574e-154\n"
     ]
    },
    {
     "data": {
      "text/plain": [
       "['Age', 'Vintage', 'Avg_Account_Balance']"
      ]
     },
     "execution_count": 41,
     "metadata": {},
     "output_type": "execute_result"
    }
   ],
   "source": [
    "Anova_test(targetVariable='Is_Lead',PredictorVariable=continuousVariables,inpData=credit_card_train)"
   ]
  },
  {
   "cell_type": "markdown",
   "metadata": {},
   "source": [
    "From the ANOVA Test we get our list of continuous predictors that are corelated with the target variable"
   ]
  },
  {
   "cell_type": "markdown",
   "metadata": {},
   "source": [
    "# Relationship exploration: Categorical Vs Categorical -- Grouped Bar Charts\n",
    "When the target variable is Categorical and the predictor is also Categorical then we explore the correlation between them  visually using barplots and statistically using Chi-square test"
   ]
  },
  {
   "cell_type": "code",
   "execution_count": 90,
   "metadata": {
    "scrolled": false
   },
   "outputs": [
    {
     "data": {
      "image/png": "[encoded data removed]",
      "text/plain": [
       "<Figure size 720x2160 with 5 Axes>"
      ]
     },
     "metadata": {
      "needs_background": "light"
     },
     "output_type": "display_data"
    }
   ],
   "source": [
    "#Visualizing the relationship between the categorical vs categorical predictors using Grouped Var Charts\n",
    "fig,plotCanvas = plt.subplots(nrows=len(categoricalVariables),ncols=1, figsize=(10,30))\n",
    "\n",
    "for categoricalcols,i in zip(categoricalVariables,range(len(categoricalVariables))):\n",
    "    CrossTabResult=pd.crosstab(index=credit_card_train[categoricalcols], columns=credit_card_train['Is_Lead'])\n",
    "    CrossTabResult.plot.bar(color=['red','green'], ax=plotCanvas[i], title=categoricalcols+' Vs '+'Is_Lead')"
   ]
  },
  {
   "cell_type": "markdown",
   "metadata": {},
   "source": [
    "# Grouped Bar charts Interpretation\n",
    "\n",
    "These grouped bar charts show the frequency in the Y-Axis and the category in the X-Axis. \n",
    "If the ratio of bars is similar across all categories, then the two columns are not correlated. \n",
    "\n",
    "From the above grouped bar charts categorical predictors are corelated with the target variable.\n",
    "\n",
    "We confirm this analysis in below section by using Chi-Square Tests."
   ]
  },
  {
   "cell_type": "markdown",
   "metadata": {},
   "source": [
    "### Statistical Feature Selection (Categorical Vs Categorical) using Chi-Square Test\n",
    "\n",
    "Chi-Square test is conducted to check the correlation between two categorical variables\n",
    "\n",
    "* Assumption(H0): The two columns are NOT related to each other\n",
    "* Result of Chi-Sq Test: The Probability of H0 being True"
   ]
  },
  {
   "cell_type": "code",
   "execution_count": 91,
   "metadata": {},
   "outputs": [],
   "source": [
    "def chisqTest(targetVariable,predictorvariables,inpData):\n",
    "    from scipy.stats import chi2_contingency\n",
    "    \n",
    "    #Creating empty list\n",
    "    selectedPredictors=[]\n",
    "    \n",
    "    print('## Chisq Test ##')\n",
    "    for predictors in predictorvariables:\n",
    "        crossTab = pd.crosstab(index=inpData[targetVariable],columns=inpData[predictors])\n",
    "        crossTabResult = chi2_contingency(crossTab)\n",
    "        \n",
    "        #if P-Value is less than 0.05 we will reject the H0\n",
    "        if(crossTabResult[1]<0.05):\n",
    "            print(predictors,'is corelated with the',targetVariable,'| P-Value:',crossTabResult[1])\n",
    "            selectedPredictors.append(predictors)\n",
    "        else:\n",
    "            print(predictors,'is not corelated with the',targetVariable,'| P-Value:',crossTabResult[1])\n",
    "            "
   ]
  },
  {
   "cell_type": "code",
   "execution_count": 92,
   "metadata": {},
   "outputs": [
    {
     "name": "stdout",
     "output_type": "stream",
     "text": [
      "## Chisq Test ##\n",
      "Gender is corelated with the Is_Lead | P-Value: 1.949380935011988e-279\n",
      "Occupation is corelated with the Is_Lead | P-Value: 0.0\n",
      "Channel_Code is corelated with the Is_Lead | P-Value: 0.0\n",
      "Credit_Product is corelated with the Is_Lead | P-Value: 0.0\n",
      "Is_Active is corelated with the Is_Lead | P-Value: 0.0\n"
     ]
    }
   ],
   "source": [
    "chisqTest(targetVariable='Is_Lead',predictorvariables=categoricalVariables,inpData=credit_card_train)"
   ]
  },
  {
   "cell_type": "markdown",
   "metadata": {},
   "source": [
    "From the above statistical test we get our final set of predictor variables\n",
    "Age,Vintage,Avg_Account_Balance,Gemder,Occupation,Channel_Code,Credit_Product,Is_Active"
   ]
  },
  {
   "cell_type": "markdown",
   "metadata": {},
   "source": [
    "# Selecting final predictors for Machine Learning\n",
    "Based on the above tests, selecting the final columns for machine learning\n"
   ]
  },
  {
   "cell_type": "code",
   "execution_count": 93,
   "metadata": {},
   "outputs": [
    {
     "data": {
      "text/html": [
       "<div>\n",
       "<style scoped>\n",
       "    .dataframe tbody tr th:only-of-type {\n",
       "        vertical-align: middle;\n",
       "    }\n",
       "\n",
       "    .dataframe tbody tr th {\n",
       "        vertical-align: top;\n",
       "    }\n",
       "\n",
       "    .dataframe thead th {\n",
       "        text-align: right;\n",
       "    }\n",
       "</style>\n",
       "<table border=\"1\" class=\"dataframe\">\n",
       "  <thead>\n",
       "    <tr style=\"text-align: right;\">\n",
       "      <th></th>\n",
       "      <th>Age</th>\n",
       "      <th>Vintage</th>\n",
       "      <th>Avg_Account_Balance</th>\n",
       "      <th>Gender</th>\n",
       "      <th>Occupation</th>\n",
       "      <th>Channel_Code</th>\n",
       "      <th>Credit_Product</th>\n",
       "      <th>Is_Active</th>\n",
       "    </tr>\n",
       "  </thead>\n",
       "  <tbody>\n",
       "    <tr>\n",
       "      <th>0</th>\n",
       "      <td>73</td>\n",
       "      <td>43</td>\n",
       "      <td>1045696</td>\n",
       "      <td>Female</td>\n",
       "      <td>Other</td>\n",
       "      <td>X3</td>\n",
       "      <td>No</td>\n",
       "      <td>No</td>\n",
       "    </tr>\n",
       "    <tr>\n",
       "      <th>1</th>\n",
       "      <td>30</td>\n",
       "      <td>32</td>\n",
       "      <td>581988</td>\n",
       "      <td>Female</td>\n",
       "      <td>Salaried</td>\n",
       "      <td>X1</td>\n",
       "      <td>No</td>\n",
       "      <td>No</td>\n",
       "    </tr>\n",
       "    <tr>\n",
       "      <th>2</th>\n",
       "      <td>56</td>\n",
       "      <td>26</td>\n",
       "      <td>1484315</td>\n",
       "      <td>Female</td>\n",
       "      <td>Self_Employed</td>\n",
       "      <td>X3</td>\n",
       "      <td>No</td>\n",
       "      <td>Yes</td>\n",
       "    </tr>\n",
       "    <tr>\n",
       "      <th>3</th>\n",
       "      <td>34</td>\n",
       "      <td>19</td>\n",
       "      <td>470454</td>\n",
       "      <td>Male</td>\n",
       "      <td>Salaried</td>\n",
       "      <td>X1</td>\n",
       "      <td>No</td>\n",
       "      <td>No</td>\n",
       "    </tr>\n",
       "    <tr>\n",
       "      <th>4</th>\n",
       "      <td>30</td>\n",
       "      <td>33</td>\n",
       "      <td>886787</td>\n",
       "      <td>Female</td>\n",
       "      <td>Salaried</td>\n",
       "      <td>X1</td>\n",
       "      <td>No</td>\n",
       "      <td>No</td>\n",
       "    </tr>\n",
       "  </tbody>\n",
       "</table>\n",
       "</div>"
      ],
      "text/plain": [
       "   Age  Vintage  Avg_Account_Balance  Gender     Occupation Channel_Code  \\\n",
       "0   73       43              1045696  Female          Other           X3   \n",
       "1   30       32               581988  Female       Salaried           X1   \n",
       "2   56       26              1484315  Female  Self_Employed           X3   \n",
       "3   34       19               470454    Male       Salaried           X1   \n",
       "4   30       33               886787  Female       Salaried           X1   \n",
       "\n",
       "  Credit_Product Is_Active  \n",
       "0             No        No  \n",
       "1             No        No  \n",
       "2             No       Yes  \n",
       "3             No        No  \n",
       "4             No        No  "
      ]
     },
     "execution_count": 93,
     "metadata": {},
     "output_type": "execute_result"
    }
   ],
   "source": [
    "selectedColumns = ['Age','Vintage','Avg_Account_Balance','Gender','Occupation','Channel_Code','Credit_Product','Is_Active']\n",
    "\n",
    "DataForML = credit_card_train[selectedColumns]\n",
    "DataForML.head()"
   ]
  },
  {
   "cell_type": "code",
   "execution_count": 94,
   "metadata": {},
   "outputs": [],
   "source": [
    "# Saving this final data for reference during deployment\n",
    "DataForML.to_pickle('DataForML.pkl')"
   ]
  },
  {
   "cell_type": "markdown",
   "metadata": {},
   "source": [
    "## Data Pre-processing for Machine Learning\n",
    "List of steps performed on predictor variables before data can be used for machine learning\n",
    "1. Converting each Ordinal Categorical columns to numeric\n",
    "2. Converting Binary nominal Categorical columns to numeric using 1/0 mapping\n",
    "3. Converting all other nominal categorical columns to numeric using pd.get_dummies()\n",
    "4. Data Transformation (Optional): Standardization/Normalization/log/sqrt. Important if you are using distance based algorithms like KNN, or Neural Networks"
   ]
  },
  {
   "cell_type": "markdown",
   "metadata": {},
   "source": [
    "In this dataset there are no ordinal categorical columns "
   ]
  },
  {
   "cell_type": "markdown",
   "metadata": {},
   "source": [
    "## Converting the binary nominal variable to numeric using 1/0 mapping"
   ]
  },
  {
   "cell_type": "code",
   "execution_count": 95,
   "metadata": {},
   "outputs": [],
   "source": [
    "#Converting Gender into 1/0 mapping\n",
    "DataForML['Gender'].replace({'Male':0,'Female':1},inplace=True)\n",
    "\n",
    "#Converting Credit_Product into 1/0 mapping\n",
    "DataForML['Credit_Product'].replace({'Yes':1,'No':0},inplace=True)\n",
    "\n",
    "#Converting Is_Active into 1/0 mapping\n",
    "DataForML['Is_Active'].replace({'Yes':1,'No':0},inplace=True)"
   ]
  },
  {
   "cell_type": "markdown",
   "metadata": {},
   "source": [
    "## Converting the nominal variable to numeric using get_dummies()"
   ]
  },
  {
   "cell_type": "code",
   "execution_count": 96,
   "metadata": {
    "scrolled": true
   },
   "outputs": [
    {
     "data": {
      "text/html": [
       "<div>\n",
       "<style scoped>\n",
       "    .dataframe tbody tr th:only-of-type {\n",
       "        vertical-align: middle;\n",
       "    }\n",
       "\n",
       "    .dataframe tbody tr th {\n",
       "        vertical-align: top;\n",
       "    }\n",
       "\n",
       "    .dataframe thead th {\n",
       "        text-align: right;\n",
       "    }\n",
       "</style>\n",
       "<table border=\"1\" class=\"dataframe\">\n",
       "  <thead>\n",
       "    <tr style=\"text-align: right;\">\n",
       "      <th></th>\n",
       "      <th>Age</th>\n",
       "      <th>Vintage</th>\n",
       "      <th>Avg_Account_Balance</th>\n",
       "      <th>Gender</th>\n",
       "      <th>Credit_Product</th>\n",
       "      <th>Is_Active</th>\n",
       "      <th>Occupation_Other</th>\n",
       "      <th>Occupation_Salaried</th>\n",
       "      <th>Occupation_Self_Employed</th>\n",
       "      <th>Channel_Code_X1</th>\n",
       "      <th>Channel_Code_X2</th>\n",
       "      <th>Channel_Code_X3</th>\n",
       "      <th>Is_Lead</th>\n",
       "    </tr>\n",
       "  </thead>\n",
       "  <tbody>\n",
       "    <tr>\n",
       "      <th>0</th>\n",
       "      <td>73</td>\n",
       "      <td>43</td>\n",
       "      <td>1045696</td>\n",
       "      <td>1</td>\n",
       "      <td>0</td>\n",
       "      <td>0</td>\n",
       "      <td>1</td>\n",
       "      <td>0</td>\n",
       "      <td>0</td>\n",
       "      <td>0</td>\n",
       "      <td>0</td>\n",
       "      <td>1</td>\n",
       "      <td>0</td>\n",
       "    </tr>\n",
       "    <tr>\n",
       "      <th>1</th>\n",
       "      <td>30</td>\n",
       "      <td>32</td>\n",
       "      <td>581988</td>\n",
       "      <td>1</td>\n",
       "      <td>0</td>\n",
       "      <td>0</td>\n",
       "      <td>0</td>\n",
       "      <td>1</td>\n",
       "      <td>0</td>\n",
       "      <td>1</td>\n",
       "      <td>0</td>\n",
       "      <td>0</td>\n",
       "      <td>0</td>\n",
       "    </tr>\n",
       "    <tr>\n",
       "      <th>2</th>\n",
       "      <td>56</td>\n",
       "      <td>26</td>\n",
       "      <td>1484315</td>\n",
       "      <td>1</td>\n",
       "      <td>0</td>\n",
       "      <td>1</td>\n",
       "      <td>0</td>\n",
       "      <td>0</td>\n",
       "      <td>1</td>\n",
       "      <td>0</td>\n",
       "      <td>0</td>\n",
       "      <td>1</td>\n",
       "      <td>0</td>\n",
       "    </tr>\n",
       "    <tr>\n",
       "      <th>3</th>\n",
       "      <td>34</td>\n",
       "      <td>19</td>\n",
       "      <td>470454</td>\n",
       "      <td>0</td>\n",
       "      <td>0</td>\n",
       "      <td>0</td>\n",
       "      <td>0</td>\n",
       "      <td>1</td>\n",
       "      <td>0</td>\n",
       "      <td>1</td>\n",
       "      <td>0</td>\n",
       "      <td>0</td>\n",
       "      <td>0</td>\n",
       "    </tr>\n",
       "    <tr>\n",
       "      <th>4</th>\n",
       "      <td>30</td>\n",
       "      <td>33</td>\n",
       "      <td>886787</td>\n",
       "      <td>1</td>\n",
       "      <td>0</td>\n",
       "      <td>0</td>\n",
       "      <td>0</td>\n",
       "      <td>1</td>\n",
       "      <td>0</td>\n",
       "      <td>1</td>\n",
       "      <td>0</td>\n",
       "      <td>0</td>\n",
       "      <td>0</td>\n",
       "    </tr>\n",
       "  </tbody>\n",
       "</table>\n",
       "</div>"
      ],
      "text/plain": [
       "   Age  Vintage  Avg_Account_Balance  Gender  Credit_Product  Is_Active  \\\n",
       "0   73       43              1045696       1               0          0   \n",
       "1   30       32               581988       1               0          0   \n",
       "2   56       26              1484315       1               0          1   \n",
       "3   34       19               470454       0               0          0   \n",
       "4   30       33               886787       1               0          0   \n",
       "\n",
       "   Occupation_Other  Occupation_Salaried  Occupation_Self_Employed  \\\n",
       "0                 1                    0                         0   \n",
       "1                 0                    1                         0   \n",
       "2                 0                    0                         1   \n",
       "3                 0                    1                         0   \n",
       "4                 0                    1                         0   \n",
       "\n",
       "   Channel_Code_X1  Channel_Code_X2  Channel_Code_X3  Is_Lead  \n",
       "0                0                0                1        0  \n",
       "1                1                0                0        0  \n",
       "2                0                0                1        0  \n",
       "3                1                0                0        0  \n",
       "4                1                0                0        0  "
      ]
     },
     "execution_count": 96,
     "metadata": {},
     "output_type": "execute_result"
    }
   ],
   "source": [
    "# Treating all the nominal variables at once using dummy variables\n",
    "DataForML_Numeric=pd.get_dummies(DataForML)\n",
    "\n",
    "# Adding Target Variable to the ML Data\n",
    "DataForML_Numeric['Is_Lead']=credit_card_train['Is_Lead']\n",
    "\n",
    "#Checking head of the ML data\n",
    "DataForML_Numeric.head()"
   ]
  },
  {
   "cell_type": "code",
   "execution_count": 99,
   "metadata": {},
   "outputs": [
    {
     "data": {
      "text/plain": [
       "(245725, 13)"
      ]
     },
     "execution_count": 99,
     "metadata": {},
     "output_type": "execute_result"
    }
   ],
   "source": [
    "DataForML_Numeric.shape"
   ]
  },
  {
   "cell_type": "markdown",
   "metadata": {},
   "source": [
    "# Machine Learning: Splitting the data into Training and Testing sample\n",
    "We dont use the full data for creating the model. Some data is randomly selected and kept aside for checking how good the model is. This is known as Testing Data and the remaining data is called Training data on which the model is built. Typically 70% of data is used as Training data and the rest 30% is used as Tesing data."
   ]
  },
  {
   "cell_type": "code",
   "execution_count": 97,
   "metadata": {},
   "outputs": [
    {
     "data": {
      "text/plain": [
       "Index(['Age', 'Vintage', 'Avg_Account_Balance', 'Gender', 'Credit_Product',\n",
       "       'Is_Active', 'Occupation_Other', 'Occupation_Salaried',\n",
       "       'Occupation_Self_Employed', 'Channel_Code_X1', 'Channel_Code_X2',\n",
       "       'Channel_Code_X3', 'Is_Lead'],\n",
       "      dtype='object')"
      ]
     },
     "execution_count": 97,
     "metadata": {},
     "output_type": "execute_result"
    }
   ],
   "source": [
    "#Printing all the columns of ML Data for reference\n",
    "DataForML_Numeric.columns"
   ]
  },
  {
   "cell_type": "code",
   "execution_count": 100,
   "metadata": {},
   "outputs": [],
   "source": [
    "#Separate target variable and predictor variables\n",
    "\n",
    "TargetVariable = 'Is_Lead'\n",
    "Predictors = ['Age', 'Vintage', 'Avg_Account_Balance', 'Gender', 'Credit_Product',\n",
    "       'Is_Active', 'Occupation_Other',\n",
    "       'Occupation_Salaried', 'Occupation_Self_Employed', 'Channel_Code_X1',\n",
    "       'Channel_Code_X2', 'Channel_Code_X3']\n",
    "\n",
    "x= DataForML_Numeric[Predictors].values\n",
    "y= DataForML_Numeric[TargetVariable].values\n",
    "\n",
    "#Splitting the data into 70% Train and 30% Test\n",
    "from sklearn.model_selection import train_test_split\n",
    "x_train,x_test,y_train,y_test = train_test_split(x,y,test_size=0.3,random_state =5)"
   ]
  },
  {
   "cell_type": "code",
   "execution_count": 70,
   "metadata": {},
   "outputs": [],
   "source": [
    "### Sandardization of data ###\n",
    "from sklearn.preprocessing import StandardScaler, MinMaxScaler\n",
    "# Choose either standardization or Normalization\n",
    "# On this data Min Max Normalization produced better results\n",
    "\n",
    "# Choose between standardization and MinMAx normalization\n",
    "#PredictorScaler=StandardScaler()\n",
    "PredictorScaler=MinMaxScaler()\n",
    "\n",
    "# Storing the fit object for later reference\n",
    "PredictorScalerFit=PredictorScaler.fit(x)\n",
    "\n",
    "# Generating the standardized values of X\n",
    "X=PredictorScalerFit.transform(x)\n",
    "\n",
    "# Split the data into training and testing set\n",
    "from sklearn.model_selection import train_test_split\n",
    "x_train, x_test, y_train, y_test = train_test_split(x, y, test_size=0.3, random_state=42)"
   ]
  },
  {
   "cell_type": "code",
   "execution_count": 101,
   "metadata": {},
   "outputs": [
    {
     "name": "stdout",
     "output_type": "stream",
     "text": [
      "(172007, 12)\n",
      "(172007,)\n",
      "(73718, 12)\n",
      "(73718,)\n"
     ]
    }
   ],
   "source": [
    "#Cheking the shape of the splitted data\n",
    "print(x_train.shape)\n",
    "print(y_train.shape)\n",
    "print(x_test.shape)\n",
    "print(y_test.shape)"
   ]
  },
  {
   "cell_type": "markdown",
   "metadata": {},
   "source": [
    "# LOGISTIC REGRESSION MODEL"
   ]
  },
  {
   "cell_type": "code",
   "execution_count": 189,
   "metadata": {
    "scrolled": true
   },
   "outputs": [
    {
     "name": "stdout",
     "output_type": "stream",
     "text": [
      "LogisticRegression accuracy is 0.771\n",
      "LogisticRegression log_loss is 0.488\n",
      "LogisticRegression auc is 0.726\n",
      "LogisticRegression roc-auc is 0.726\n",
      "Best Threshold=0.279453, G-Mean=0.664\n"
     ]
    },
    {
     "data": {
      "image/png": "[encoded data removed]",
      "text/plain": [
       "<Figure size 432x288 with 1 Axes>"
      ]
     },
     "metadata": {
      "needs_background": "light"
     },
     "output_type": "display_data"
    },
    {
     "name": "stdout",
     "output_type": "stream",
     "text": [
      "\n",
      "Accuracy values for 10-fold Cross Validation:\n",
      " [0.7033524  0.70221717 0.70302503 0.70367001 0.70536551 0.70102272\n",
      " 0.70227782 0.70326144 0.70162827 0.70209305]\n",
      "\n",
      "Final Average Accuracy of the model: 0.7\n",
      "         ID  Is_Lead\n",
      "0  VBENBARO        0\n",
      "1  CCMEWNKY        0\n",
      "2  VK3KGA9M        0\n",
      "3  TT8RPZVC        0\n",
      "4  SHQZEYTZ        0\n",
      "              ID  Is_Lead\n",
      "105307  DBENJOYI        1\n",
      "105308  CWQ72DWS        0\n",
      "105309  HDESC8GU        0\n",
      "105310  2PW4SFCA        0\n",
      "105311  F2NOYPPZ        0\n"
     ]
    }
   ],
   "source": [
    "#Logistic Regression\n",
    "from sklearn.linear_model import LogisticRegression\n",
    "from sklearn.metrics import accuracy_score, log_loss, roc_auc_score\n",
    "\n",
    "# choose parameter Penalty='l1' or C=1\n",
    "# choose different values for solver 'newton-cg', 'lbfgs', 'liblinear', 'sag', 'saga'\n",
    "clf = LogisticRegression(C=5,penalty='l2',solver='newton-cg',random_state=0)\n",
    "\n",
    "#creating the model on training data\n",
    "LOG = clf.fit(x_train,y_train)\n",
    "y_pred = LOG.predict(x_test)\n",
    "y_pred_proba = LOG.predict_proba(x_test)[:, 1]\n",
    "\n",
    "[fpr, tpr, thr] = roc_curve(y_test, y_pred_proba)\n",
    "\n",
    "\n",
    "print(LOG.__class__.__name__+\" accuracy is %2.3f\" % accuracy_score(y_test, y_pred))\n",
    "print(LOG.__class__.__name__+\" log_loss is %2.3f\" % log_loss(y_test, y_pred_proba))\n",
    "print(LOG.__class__.__name__+\" auc is %2.3f\" % auc(fpr, tpr))\n",
    "print(LOG.__class__.__name__+\" roc-auc is %2.3f\" % roc_auc_score(y_test, y_pred_proba))\n",
    "\n",
    "\n",
    "#calculating gmean for each threshold\n",
    "gmeans = np.sqrt(tpr *(1-fpr))\n",
    "\n",
    "# locate the index of the largest g-mean\n",
    "ix = np.argmax(gmeans)\n",
    "print('Best Threshold=%f, G-Mean=%.3f' % (thr[ix], gmeans[ix]))\n",
    "# plot the roc curve for the model\n",
    "plt.plot([0,1], [0,1], linestyle='--', label='No Skill')\n",
    "plt.plot(fpr, tpr, marker='.', label='Logistic')\n",
    "plt.scatter(fpr[ix], tpr[ix], marker='o', color='black', label='Best')\n",
    "# axis labels\n",
    "plt.xlabel('False Positive Rate')\n",
    "plt.ylabel('True Positive Rate')\n",
    "plt.legend()\n",
    "# show the plot\n",
    "plt.show()\n",
    "\n",
    "# Importing cross validation function from sklearn\n",
    "from sklearn.model_selection import cross_val_score\n",
    "\n",
    "# Running 10-Fold Cross validation on a given algorithm\n",
    "# Passing full data X and y because the K-fold will split the data and automatically choose train/test\n",
    "Accuracy_Values=cross_val_score(LOG, x , y, cv=10, scoring='f1_weighted')\n",
    "print('\\nAccuracy values for 10-fold Cross Validation:\\n',Accuracy_Values)\n",
    "print('\\nFinal Average Accuracy of the model:', round(Accuracy_Values.mean(),2))\n",
    "\n"
   ]
  },
  {
   "cell_type": "markdown",
   "metadata": {},
   "source": [
    "# DECISION TREE MODEL"
   ]
  },
  {
   "cell_type": "code",
   "execution_count": 187,
   "metadata": {
    "scrolled": false
   },
   "outputs": [
    {
     "name": "stdout",
     "output_type": "stream",
     "text": [
      "DecisionTreeClassifier(criterion='entropy', max_depth=6)\n",
      "DecisionTreeClassifier accuracy is 0.784\n",
      "DecisionTreeClassifier log_loss is 0.455\n",
      "DecisionTreeClassifier auc is 0.770\n",
      "DecisionTreeClassifier roc-auc is 0.770\n",
      "Best Threshold=0.241921, G-Mean=0.705\n"
     ]
    },
    {
     "data": {
      "image/png": "[encoded data removed]",
      "text/plain": [
       "<Figure size 432x288 with 1 Axes>"
      ]
     },
     "metadata": {
      "needs_background": "light"
     },
     "output_type": "display_data"
    },
    {
     "name": "stdout",
     "output_type": "stream",
     "text": [
      "\n",
      "Accuracy values for 10-fold Cross Validation:\n",
      " [0.7033524  0.70221717 0.70302503 0.70367001 0.70536551 0.70102272\n",
      " 0.70227782 0.70326144 0.70162827 0.70209305]\n",
      "\n",
      "Final Average Accuracy of the model: 0.7\n",
      "         ID  Is_Lead\n",
      "0  VBENBARO        0\n",
      "1  CCMEWNKY        0\n",
      "2  VK3KGA9M        0\n",
      "3  TT8RPZVC        0\n",
      "4  SHQZEYTZ        0\n",
      "              ID  Is_Lead\n",
      "105307  DBENJOYI        1\n",
      "105308  CWQ72DWS        1\n",
      "105309  HDESC8GU        0\n",
      "105310  2PW4SFCA        0\n",
      "105311  F2NOYPPZ        0\n"
     ]
    }
   ],
   "source": [
    "#Decision Trees\n",
    "from sklearn import tree\n",
    "from sklearn.metrics import accuracy_score, log_loss, roc_auc_score\n",
    "\n",
    "#choose from different tunable hyper parameters\n",
    "clf = tree.DecisionTreeClassifier(max_depth=6,criterion='entropy')\n",
    "\n",
    "# Printing all the parameters of Decision Trees\n",
    "print(clf)\n",
    "\n",
    "# Creating the model on Training Data\n",
    "DTree=clf.fit(x_train,y_train)\n",
    "y_pred = DTree.predict(x_test)\n",
    "y_pred_proba = DTree.predict_proba(x_test)[:, 1]\n",
    "\n",
    "[fpr, tpr, thr] = roc_curve(y_test, y_pred_proba)\n",
    "\n",
    "\n",
    "print(DTree.__class__.__name__+\" accuracy is %2.3f\" % accuracy_score(y_test, y_pred))\n",
    "print(DTree.__class__.__name__+\" log_loss is %2.3f\" % log_loss(y_test, y_pred_proba))\n",
    "print(DTree.__class__.__name__+\" auc is %2.3f\" % auc(fpr, tpr))\n",
    "print(DTree.__class__.__name__+\" roc-auc is %2.3f\" % roc_auc_score(y_test, y_pred_proba))\n",
    "\n",
    "\n",
    "#calculating gmean for each threshold\n",
    "gmeans = np.sqrt(tpr *(1-fpr))\n",
    "\n",
    "# locate the index of the largest g-mean\n",
    "ix = np.argmax(gmeans)\n",
    "print('Best Threshold=%f, G-Mean=%.3f' % (thr[ix], gmeans[ix]))\n",
    "# plot the roc curve for the model\n",
    "plt.plot([0,1], [0,1], linestyle='--', label='No Skill')\n",
    "plt.plot(fpr, tpr, marker='.', label='Logistic')\n",
    "plt.scatter(fpr[ix], tpr[ix], marker='o', color='black', label='Best')\n",
    "# axis labels\n",
    "plt.xlabel('False Positive Rate')\n",
    "plt.ylabel('True Positive Rate')\n",
    "plt.legend()\n",
    "# show the plot\n",
    "plt.show()\n",
    "\n",
    "# Importing cross validation function from sklearn\n",
    "from sklearn.model_selection import cross_val_score\n",
    "\n",
    "# Running 10-Fold Cross validation on a given algorithm\n",
    "# Passing full data X and y because the K-fold will split the data and automatically choose train/test\n",
    "Accuracy_Values=cross_val_score(LOG, x , y, cv=10, scoring='f1_weighted')\n",
    "print('\\nAccuracy values for 10-fold Cross Validation:\\n',Accuracy_Values)\n",
    "print('\\nFinal Average Accuracy of the model:', round(Accuracy_Values.mean(),2))\n",
    "\n",
    "\n",
    "test_data['Is_Lead']=DTree.predict(test_data[Predictors])\n",
    "test_data['ID']=credit_card_test['ID']\n",
    "\n",
    "submission = test_data[['ID','Is_Lead']]\n",
    "\n",
    "print(submission.head())\n",
    "print(submission.tail())\n",
    "\n",
    "submission.to_csv('C:\\\\Users\\\\LENEVO\\\\Documents\\\\1\\\\Analytics Vidhya\\\\submission.csv',index=False)"
   ]
  },
  {
   "cell_type": "markdown",
   "metadata": {},
   "source": [
    "# Plotting Decision Tree"
   ]
  },
  {
   "cell_type": "code",
   "execution_count": 183,
   "metadata": {
    "scrolled": false
   },
   "outputs": [
    {
     "name": "stdout",
     "output_type": "stream",
     "text": [
      "Requirement already satisfied: dtreeplt in c:\\users\\lenevo\\anaconda3\\lib\\site-packages (0.1.43)\n",
      "Requirement already satisfied: numpy>=1.15.1 in c:\\users\\lenevo\\anaconda3\\lib\\site-packages (from dtreeplt) (1.19.2)\n",
      "Requirement already satisfied: ipywidgets>=7.4.2 in c:\\users\\lenevo\\anaconda3\\lib\\site-packages (from dtreeplt) (7.5.1)\n",
      "Requirement already satisfied: scikit-learn>=0.20.2 in c:\\users\\lenevo\\anaconda3\\lib\\site-packages (from dtreeplt) (0.23.2)\n",
      "Requirement already satisfied: matplotlib>=3.0.2 in c:\\users\\lenevo\\anaconda3\\lib\\site-packages (from dtreeplt) (3.3.2)\n",
      "Requirement already satisfied: ipython>=7.2.0 in c:\\users\\lenevo\\anaconda3\\lib\\site-packages (from dtreeplt) (7.19.0)\n",
      "Requirement already satisfied: widgetsnbextension~=3.5.0 in c:\\users\\lenevo\\anaconda3\\lib\\site-packages (from ipywidgets>=7.4.2->dtreeplt) (3.5.1)\n",
      "Requirement already satisfied: ipykernel>=4.5.1 in c:\\users\\lenevo\\anaconda3\\lib\\site-packages (from ipywidgets>=7.4.2->dtreeplt) (5.3.4)\n",
      "Requirement already satisfied: nbformat>=4.2.0 in c:\\users\\lenevo\\anaconda3\\lib\\site-packages (from ipywidgets>=7.4.2->dtreeplt) (5.0.8)\n",
      "Requirement already satisfied: traitlets>=4.3.1 in c:\\users\\lenevo\\anaconda3\\lib\\site-packages (from ipywidgets>=7.4.2->dtreeplt) (5.0.5)\n",
      "Requirement already satisfied: scipy>=0.19.1 in c:\\users\\lenevo\\anaconda3\\lib\\site-packages (from scikit-learn>=0.20.2->dtreeplt) (1.5.2)\n",
      "Requirement already satisfied: threadpoolctl>=2.0.0 in c:\\users\\lenevo\\anaconda3\\lib\\site-packages (from scikit-learn>=0.20.2->dtreeplt) (2.1.0)\n",
      "Requirement already satisfied: joblib>=0.11 in c:\\users\\lenevo\\anaconda3\\lib\\site-packages (from scikit-learn>=0.20.2->dtreeplt) (0.17.0)\n",
      "Requirement already satisfied: python-dateutil>=2.1 in c:\\users\\lenevo\\anaconda3\\lib\\site-packages (from matplotlib>=3.0.2->dtreeplt) (2.8.1)\n",
      "Requirement already satisfied: certifi>=2020.06.20 in c:\\users\\lenevo\\anaconda3\\lib\\site-packages (from matplotlib>=3.0.2->dtreeplt) (2020.6.20)\n",
      "Requirement already satisfied: cycler>=0.10 in c:\\users\\lenevo\\anaconda3\\lib\\site-packages (from matplotlib>=3.0.2->dtreeplt) (0.10.0)\n",
      "Requirement already satisfied: pyparsing!=2.0.4,!=2.1.2,!=2.1.6,>=2.0.3 in c:\\users\\lenevo\\anaconda3\\lib\\site-packages (from matplotlib>=3.0.2->dtreeplt) (2.4.7)\n",
      "Requirement already satisfied: pillow>=6.2.0 in c:\\users\\lenevo\\anaconda3\\lib\\site-packages (from matplotlib>=3.0.2->dtreeplt) (8.0.1)\n",
      "Requirement already satisfied: kiwisolver>=1.0.1 in c:\\users\\lenevo\\anaconda3\\lib\\site-packages (from matplotlib>=3.0.2->dtreeplt) (1.3.0)\n",
      "Requirement already satisfied: colorama; sys_platform == \"win32\" in c:\\users\\lenevo\\anaconda3\\lib\\site-packages (from ipython>=7.2.0->dtreeplt) (0.4.4)\n",
      "Requirement already satisfied: pickleshare in c:\\users\\lenevo\\anaconda3\\lib\\site-packages (from ipython>=7.2.0->dtreeplt) (0.7.5)\n",
      "Requirement already satisfied: prompt-toolkit!=3.0.0,!=3.0.1,<3.1.0,>=2.0.0 in c:\\users\\lenevo\\anaconda3\\lib\\site-packages (from ipython>=7.2.0->dtreeplt) (3.0.8)\n",
      "Requirement already satisfied: setuptools>=18.5 in c:\\users\\lenevo\\anaconda3\\lib\\site-packages (from ipython>=7.2.0->dtreeplt) (50.3.1.post20201107)\n",
      "Requirement already satisfied: backcall in c:\\users\\lenevo\\anaconda3\\lib\\site-packages (from ipython>=7.2.0->dtreeplt) (0.2.0)\n",
      "Requirement already satisfied: decorator in c:\\users\\lenevo\\anaconda3\\lib\\site-packages (from ipython>=7.2.0->dtreeplt) (4.4.2)\n",
      "Requirement already satisfied: jedi>=0.10 in c:\\users\\lenevo\\anaconda3\\lib\\site-packages (from ipython>=7.2.0->dtreeplt) (0.17.1)\n",
      "Requirement already satisfied: pygments in c:\\users\\lenevo\\anaconda3\\lib\\site-packages (from ipython>=7.2.0->dtreeplt) (2.7.2)\n",
      "Requirement already satisfied: notebook>=4.4.1 in c:\\users\\lenevo\\anaconda3\\lib\\site-packages (from widgetsnbextension~=3.5.0->ipywidgets>=7.4.2->dtreeplt) (6.1.4)\n",
      "Requirement already satisfied: tornado>=4.2 in c:\\users\\lenevo\\anaconda3\\lib\\site-packages (from ipykernel>=4.5.1->ipywidgets>=7.4.2->dtreeplt) (6.0.4)\n",
      "Requirement already satisfied: jupyter-client in c:\\users\\lenevo\\anaconda3\\lib\\site-packages (from ipykernel>=4.5.1->ipywidgets>=7.4.2->dtreeplt) (6.1.7)\n",
      "Requirement already satisfied: ipython-genutils in c:\\users\\lenevo\\anaconda3\\lib\\site-packages (from nbformat>=4.2.0->ipywidgets>=7.4.2->dtreeplt) (0.2.0)\n",
      "Requirement already satisfied: jsonschema!=2.5.0,>=2.4 in c:\\users\\lenevo\\anaconda3\\lib\\site-packages (from nbformat>=4.2.0->ipywidgets>=7.4.2->dtreeplt) (3.2.0)\n",
      "Requirement already satisfied: jupyter-core in c:\\users\\lenevo\\anaconda3\\lib\\site-packages (from nbformat>=4.2.0->ipywidgets>=7.4.2->dtreeplt) (4.6.3)\n",
      "Requirement already satisfied: six>=1.5 in c:\\users\\lenevo\\anaconda3\\lib\\site-packages (from python-dateutil>=2.1->matplotlib>=3.0.2->dtreeplt) (1.15.0)\n",
      "Requirement already satisfied: wcwidth in c:\\users\\lenevo\\anaconda3\\lib\\site-packages (from prompt-toolkit!=3.0.0,!=3.0.1,<3.1.0,>=2.0.0->ipython>=7.2.0->dtreeplt) (0.2.5)\n",
      "Requirement already satisfied: parso<0.8.0,>=0.7.0 in c:\\users\\lenevo\\anaconda3\\lib\\site-packages (from jedi>=0.10->ipython>=7.2.0->dtreeplt) (0.7.0)\n",
      "Requirement already satisfied: prometheus-client in c:\\users\\lenevo\\anaconda3\\lib\\site-packages (from notebook>=4.4.1->widgetsnbextension~=3.5.0->ipywidgets>=7.4.2->dtreeplt) (0.8.0)\n",
      "Requirement already satisfied: jinja2 in c:\\users\\lenevo\\anaconda3\\lib\\site-packages (from notebook>=4.4.1->widgetsnbextension~=3.5.0->ipywidgets>=7.4.2->dtreeplt) (2.11.2)\n",
      "Requirement already satisfied: terminado>=0.8.3 in c:\\users\\lenevo\\anaconda3\\lib\\site-packages (from notebook>=4.4.1->widgetsnbextension~=3.5.0->ipywidgets>=7.4.2->dtreeplt) (0.9.1)\n",
      "Requirement already satisfied: argon2-cffi in c:\\users\\lenevo\\anaconda3\\lib\\site-packages (from notebook>=4.4.1->widgetsnbextension~=3.5.0->ipywidgets>=7.4.2->dtreeplt) (20.1.0)\n",
      "Requirement already satisfied: nbconvert in c:\\users\\lenevo\\anaconda3\\lib\\site-packages (from notebook>=4.4.1->widgetsnbextension~=3.5.0->ipywidgets>=7.4.2->dtreeplt) (6.0.7)\n",
      "Requirement already satisfied: Send2Trash in c:\\users\\lenevo\\anaconda3\\lib\\site-packages (from notebook>=4.4.1->widgetsnbextension~=3.5.0->ipywidgets>=7.4.2->dtreeplt) (1.5.0)\n",
      "Requirement already satisfied: pyzmq>=17 in c:\\users\\lenevo\\anaconda3\\lib\\site-packages (from notebook>=4.4.1->widgetsnbextension~=3.5.0->ipywidgets>=7.4.2->dtreeplt) (19.0.2)\n",
      "Requirement already satisfied: pyrsistent>=0.14.0 in c:\\users\\lenevo\\anaconda3\\lib\\site-packages (from jsonschema!=2.5.0,>=2.4->nbformat>=4.2.0->ipywidgets>=7.4.2->dtreeplt) (0.17.3)\n",
      "Requirement already satisfied: attrs>=17.4.0 in c:\\users\\lenevo\\anaconda3\\lib\\site-packages (from jsonschema!=2.5.0,>=2.4->nbformat>=4.2.0->ipywidgets>=7.4.2->dtreeplt) (20.3.0)\n",
      "Requirement already satisfied: pywin32>=1.0; sys_platform == \"win32\" in c:\\users\\lenevo\\anaconda3\\lib\\site-packages (from jupyter-core->nbformat>=4.2.0->ipywidgets>=7.4.2->dtreeplt) (227)\n",
      "Requirement already satisfied: MarkupSafe>=0.23 in c:\\users\\lenevo\\anaconda3\\lib\\site-packages (from jinja2->notebook>=4.4.1->widgetsnbextension~=3.5.0->ipywidgets>=7.4.2->dtreeplt) (1.1.1)\n",
      "Requirement already satisfied: pywinpty>=0.5 in c:\\users\\lenevo\\anaconda3\\lib\\site-packages (from terminado>=0.8.3->notebook>=4.4.1->widgetsnbextension~=3.5.0->ipywidgets>=7.4.2->dtreeplt) (0.5.7)\n",
      "Requirement already satisfied: cffi>=1.0.0 in c:\\users\\lenevo\\anaconda3\\lib\\site-packages (from argon2-cffi->notebook>=4.4.1->widgetsnbextension~=3.5.0->ipywidgets>=7.4.2->dtreeplt) (1.14.3)\n",
      "Requirement already satisfied: testpath in c:\\users\\lenevo\\anaconda3\\lib\\site-packages (from nbconvert->notebook>=4.4.1->widgetsnbextension~=3.5.0->ipywidgets>=7.4.2->dtreeplt) (0.4.4)\n",
      "Requirement already satisfied: pandocfilters>=1.4.1 in c:\\users\\lenevo\\anaconda3\\lib\\site-packages (from nbconvert->notebook>=4.4.1->widgetsnbextension~=3.5.0->ipywidgets>=7.4.2->dtreeplt) (1.4.3)\n",
      "Requirement already satisfied: defusedxml in c:\\users\\lenevo\\anaconda3\\lib\\site-packages (from nbconvert->notebook>=4.4.1->widgetsnbextension~=3.5.0->ipywidgets>=7.4.2->dtreeplt) (0.6.0)\n",
      "Requirement already satisfied: bleach in c:\\users\\lenevo\\anaconda3\\lib\\site-packages (from nbconvert->notebook>=4.4.1->widgetsnbextension~=3.5.0->ipywidgets>=7.4.2->dtreeplt) (3.2.1)\n",
      "Requirement already satisfied: mistune<2,>=0.8.1 in c:\\users\\lenevo\\anaconda3\\lib\\site-packages (from nbconvert->notebook>=4.4.1->widgetsnbextension~=3.5.0->ipywidgets>=7.4.2->dtreeplt) (0.8.4)\n",
      "Requirement already satisfied: jupyterlab-pygments in c:\\users\\lenevo\\anaconda3\\lib\\site-packages (from nbconvert->notebook>=4.4.1->widgetsnbextension~=3.5.0->ipywidgets>=7.4.2->dtreeplt) (0.1.2)\n",
      "Requirement already satisfied: entrypoints>=0.2.2 in c:\\users\\lenevo\\anaconda3\\lib\\site-packages (from nbconvert->notebook>=4.4.1->widgetsnbextension~=3.5.0->ipywidgets>=7.4.2->dtreeplt) (0.3)\n",
      "Requirement already satisfied: nbclient<0.6.0,>=0.5.0 in c:\\users\\lenevo\\anaconda3\\lib\\site-packages (from nbconvert->notebook>=4.4.1->widgetsnbextension~=3.5.0->ipywidgets>=7.4.2->dtreeplt) (0.5.1)\n",
      "Requirement already satisfied: pycparser in c:\\users\\lenevo\\anaconda3\\lib\\site-packages (from cffi>=1.0.0->argon2-cffi->notebook>=4.4.1->widgetsnbextension~=3.5.0->ipywidgets>=7.4.2->dtreeplt) (2.20)\n",
      "Requirement already satisfied: packaging in c:\\users\\lenevo\\anaconda3\\lib\\site-packages (from bleach->nbconvert->notebook>=4.4.1->widgetsnbextension~=3.5.0->ipywidgets>=7.4.2->dtreeplt) (20.4)\n",
      "Requirement already satisfied: webencodings in c:\\users\\lenevo\\anaconda3\\lib\\site-packages (from bleach->nbconvert->notebook>=4.4.1->widgetsnbextension~=3.5.0->ipywidgets>=7.4.2->dtreeplt) (0.5.1)\n",
      "Requirement already satisfied: nest-asyncio in c:\\users\\lenevo\\anaconda3\\lib\\site-packages (from nbclient<0.6.0,>=0.5.0->nbconvert->notebook>=4.4.1->widgetsnbextension~=3.5.0->ipywidgets>=7.4.2->dtreeplt) (1.4.2)\n",
      "Requirement already satisfied: async-generator in c:\\users\\lenevo\\anaconda3\\lib\\site-packages (from nbclient<0.6.0,>=0.5.0->nbconvert->notebook>=4.4.1->widgetsnbextension~=3.5.0->ipywidgets>=7.4.2->dtreeplt) (1.10)\n"
     ]
    }
   ],
   "source": [
    "# Installing the required library for plotting the decision tree\n",
    "!pip install dtreeplt"
   ]
  },
  {
   "cell_type": "code",
   "execution_count": null,
   "metadata": {},
   "outputs": [],
   "source": [
    "from dtreeplt import dtreeplt\n",
    "dtree = dtreeplt(model=clf, feature_names=Predictors, target_names=TargetVariable)\n",
    "fig = dtree.view()\n",
    "currentFigure=plt.gcf()\n",
    "currentFigure.set_size_inches(30,10)"
   ]
  },
  {
   "cell_type": "markdown",
   "metadata": {},
   "source": [
    "# The accuracy and the roc_auc_score of the decision tree model is higher than the logistic regression model, so decision tree model would be considered as the final model and the predictions on the test dataset would be evaluated on desicion tree model basis "
   ]
  }
 ],
 "metadata": {
  "kernelspec": {
   "display_name": "Python 3",
   "language": "python",
   "name": "python3"
  },
  "language_info": {
   "codemirror_mode": {
    "name": "ipython",
    "version": 3
   },
   "file_extension": ".py",
   "mimetype": "text/x-python",
   "name": "python",
   "nbconvert_exporter": "python",
   "pygments_lexer": "ipython3",
   "version": "3.8.5"
  }
 },
 "nbformat": 4,
 "nbformat_minor": 4
}
